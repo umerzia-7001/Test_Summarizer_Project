{
 "cells": [
  {
   "cell_type": "code",
   "execution_count": 9,
   "metadata": {},
   "outputs": [],
   "source": [
    "from Prediction import Prediction\n",
    "from TextCleaner import TextCleaner\n",
    "from DataPreprocessing import DataPreprocessing"
   ]
  },
  {
   "cell_type": "code",
   "execution_count": 19,
   "metadata": {},
   "outputs": [],
   "source": [
    "from keras.preprocessing.sequence import pad_sequences"
   ]
  },
  {
   "cell_type": "code",
   "execution_count": 11,
   "metadata": {},
   "outputs": [],
   "source": [
    "predictor = Prediction()\n",
    "cleaner = TextCleaner()\n",
    "processor = DataPreprocessing()"
   ]
  },
  {
   "cell_type": "code",
   "execution_count": 12,
   "metadata": {},
   "outputs": [],
   "source": [
    "loaded_data = processor.load_pickle('TokenizerData')\n",
    "\n",
    "x_tokenizer, y_tokenizer, x_vocab_size,y_vocab_size, input_word_index,target_word_index, reversed_input_word_index, reversed_target_word_index, max_length_text, max_length_summary = loaded_data[0],loaded_data[1], loaded_data[2],loaded_data[3],loaded_data[4],loaded_data[5],loaded_data[6],loaded_data[7],loaded_data[8],loaded_data[9]"
   ]
  },
  {
   "cell_type": "code",
   "execution_count": 3,
   "metadata": {},
   "outputs": [
    {
     "name": "stdout",
     "output_type": "stream",
     "text": [
      "Model Loaded.\n"
     ]
    }
   ],
   "source": [
    "# Load trained model\n",
    "encoder_model = predictor.load_model('encoder_model.json', 'encoder_model_weights.h5')\n",
    "decoder_model = predictor.load_model('decoder_model.json', 'decoder_model_weights.h5')\n",
    "print(\"Model Loaded.\")"
   ]
  },
  {
   "cell_type": "code",
   "execution_count": 4,
   "metadata": {},
   "outputs": [
    {
     "name": "stdout",
     "output_type": "stream",
     "text": [
      "Review: also tried love many energy drinks green monster cannot beat mg ginseng along gms protein building blocks gm energy blend wrapped green pixie stick flavor spectacular rockstar red bull amp sobe many many others cannot compare know monster even green hood car actively search replacements complementary beverages one worthy cannot found anyone feels know drink worthy please post note try loved \n",
      "Original summary: the green monster \n",
      "Predicted summary: great alternative to the shakes \n",
      "\n",
      "\n",
      "Review: plain coconut drink bland guava flavor taste best flavors tried quite refreshing diluted regular water full sugar like flavored water products looking buy get especially get sale guava flavor seems sold one also tried vita coco naked coconut water peach mango flavor like prices higher amazon neighborhood health food stores also used home made vegetable smoothie delicious results would love see offer coconut water larger juice box like oz intense work could use bit worth giving try \n",
      "Original summary: good tasting refreshing drink \n",
      "Predicted summary: good tasting but not the real thing \n",
      "\n",
      "\n",
      "Review: cleanest ginger beer ever says fantastically fiery overpoweringly ginger definitely watered sugary mess get every ginger drink give sixth star hands world best \n",
      "Original summary: absolutely perfect ginger drink \n",
      "Predicted summary: the best ginger ale ever \n",
      "\n",
      "\n",
      "Review: love starting day healthy fitness coffee fitness coffee antioxidant fully active blend ounce bags distinctive gourmet coffee blend natural containing dynamic nutritious antioxidants herbs enjoy fitness coffee pre post workout gives sustained energy found coffee later day fitness coffee gives healthy boost energy level alertness overall wellness \n",
      "Original summary: this coffee makes me feel amazing \n",
      "Predicted summary: great coffee for the price \n",
      "\n",
      "\n",
      "Review: make sure get right brand another label floating never hear good anyway let attest delicious dried mangoes omg texture pleasing taste smell sugar hits body almost overload product first caught eye mother bought bag made mistake leaving kitchen ate half bag mangoes know oops know hide family visits \n",
      "Original summary: fantastic snacking \n",
      "Predicted summary: the worst ever \n",
      "\n",
      "\n",
      "Review: dogs love love offer two different things see preference sam yams one hand pick wish lasted longer minutes \n",
      "Original summary: sam veggie rawhide \n",
      "Predicted summary: my dogs love these treats \n",
      "\n",
      "\n",
      "Review: husband allergic wheat therefore gluten free diet must hoped see one day gluten free version cream type soups well kudos pacific natural foods coming cream celery cream chicken cream mushrooms gluten free oh love stuff ordered case must pantry stuff great quick meals including rice chicken dish using cream mushroom hope see companies pay attention need gluten free stuff huge fan pacific natural foods good \n",
      "Original summary: gluten free at last \n",
      "Predicted summary: gluten free and gluten free \n",
      "\n",
      "\n",
      "Review: absolutely adore anything cherry bought tea sampler fruit package teas curious would taste favorite celestial seasonings tea lemon zinger close tie know everyone says even need sugar use sugar seen tea sold box local store run definitely buy also say enough packaging beautiful want throw away introduced celestial seasonings nose idea drinking tea teas converted heck even planning switching using refined white sugar tea \n",
      "Original summary: delicious love it \n",
      "Predicted summary: not the same tea \n",
      "\n",
      "\n",
      "Review: tart cherry juice seems keep arthritic pain check last subscription plastic bottle however brand discontinued used substitute flavor great effect however bottles shipped box air bag dented arrival leak question metal bottle liner liner damaged shipping \n",
      "Original summary: bottle question \n",
      "Predicted summary: great product but poor packaging \n",
      "\n",
      "\n",
      "Review: happy found wonderful decaf tea guests tea nice full flavored smooth finish usually use cup twice setting tea remains true delicious price best found anywhere \n",
      "Original summary: mmmm good tea \n",
      "Predicted summary: best decaf tea ever \n",
      "\n",
      "\n"
     ]
    }
   ],
   "source": [
    "# Generate summaries\n",
    "predictor.generated_summaries(10, encoder_model, decoder_model)"
   ]
  }
 ],
 "metadata": {
  "kernelspec": {
   "display_name": "Python 3",
   "language": "python",
   "name": "python3"
  },
  "language_info": {
   "codemirror_mode": {
    "name": "ipython",
    "version": 3
   },
   "file_extension": ".py",
   "mimetype": "text/x-python",
   "name": "python",
   "nbconvert_exporter": "python",
   "pygments_lexer": "ipython3",
   "version": "3.6.10"
  }
 },
 "nbformat": 4,
 "nbformat_minor": 4
}
